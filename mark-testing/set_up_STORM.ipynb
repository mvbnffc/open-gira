{
 "cells": [
  {
   "cell_type": "code",
   "execution_count": 1,
   "id": "3cb09812-17f4-469e-a975-35ce1c80846b",
   "metadata": {},
   "outputs": [
    {
     "name": "stderr",
     "output_type": "stream",
     "text": [
      "/tmp/ipykernel_13133/830773808.py:7: DeprecationWarning: Shapely 2.0 is installed, but because PyGEOS is also installed, GeoPandas still uses PyGEOS by default. However, starting with version 0.14, the default will switch to Shapely. To force to use Shapely 2.0 now, you can either uninstall PyGEOS or set the environment variable USE_PYGEOS=0. You can do this before starting the Python process, or in your code before importing geopandas:\n",
      "\n",
      "import os\n",
      "os.environ['USE_PYGEOS'] = '0'\n",
      "import geopandas\n",
      "\n",
      "In the next release, GeoPandas will switch to using Shapely by default, even if PyGEOS is installed. If you only have PyGEOS installed to get speed-ups, this switch should be smooth. However, if you are using PyGEOS directly (calling PyGEOS functions on geometries from GeoPandas), this will then stop working and you are encouraged to migrate from PyGEOS to Shapely 2.0 (https://shapely.readthedocs.io/en/latest/migration_pygeos.html).\n",
      "  import geopandas as gpd\n"
     ]
    }
   ],
   "source": [
    "from glob import glob\n",
    "import os\n",
    "import re\n",
    "from typing import List\n",
    "\n",
    "import numpy as np\n",
    "import geopandas as gpd\n",
    "import pandas as pd\n",
    "from tqdm import tqdm\n",
    "\n",
    "from open_gira.io import STORM_BASIN_IDS\n",
    "from open_gira.io import STORM_CSV_SCHEMA as schema\n",
    "from open_gira.utils import natural_sort\n",
    "\n",
    "import warnings \n",
    "warnings.filterwarnings(\"ignore\", category=DeprecationWarning)"
   ]
  },
  {
   "cell_type": "code",
   "execution_count": 2,
   "id": "a76007a6-5b94-4b00-9121-3c008bc21e68",
   "metadata": {},
   "outputs": [],
   "source": [
    "# divide by this factor to 'convert' STORM's 10-minutely sustained winds to\n",
    "# 1-minutely sustained wind speeds, noting the vagueries of this process as\n",
    "# explained here: https://library.wmo.int/doc_num.php?explnum_id=290\n",
    "STORM_1MIN_WIND_FACTOR = 0.88\n",
    "STORM_FREQUENCY = \"3H\"  # temporal frequency of STORM synthetic tracks"
   ]
  },
  {
   "cell_type": "code",
   "execution_count": 3,
   "id": "b7280bd8-eafe-45c1-a11c-8698754ecb96",
   "metadata": {},
   "outputs": [],
   "source": [
    "csv_dir = \"/home/mark/projects/open-gira/results/input/STORM/events/constant/WP\"\n",
    "output = \"/home/mark/projects/open-gira/results/storm_tracks/STORM-constant/tracks_WP.geoparquet\""
   ]
  },
  {
   "cell_type": "code",
   "execution_count": null,
   "id": "188f3f98-1b8c-4c61-8e11-dbdfe8f14e9d",
   "metadata": {},
   "outputs": [],
   "source": []
  },
  {
   "cell_type": "code",
   "execution_count": 4,
   "id": "488e627f-1fec-43da-bf92-9560e4eb847c",
   "metadata": {},
   "outputs": [
    {
     "name": "stderr",
     "output_type": "stream",
     "text": [
      "100%|███████████████████████████████████████████████████████████████████████████████████| 10/10 [01:01<00:00,  6.17s/it]\n"
     ]
    }
   ],
   "source": [
    "# Parse all the STORM data in the CSV files and accumulate the processed data into a list which we will then concetate\n",
    "data = []\n",
    "for path in tqdm(natural_sort(glob(f\"{csv_dir}/*.csv\"))):\n",
    "\n",
    "        \n",
    "    df = pd.read_csv(path, names=schema.keys(), dtype=schema)\n",
    "\n",
    "    # example paths containing sample number:\n",
    "    # STORM_DATA_HadGEM3-GC31-HM_WP_1000_YEARS_9_IBTRACSDELTA.csv\n",
    "    # STORM_DATA_IBTRACS_EP_1000_YEARS_0.csv\n",
    "    sample, = re.search(r\"1000_YEARS_([\\d])\", os.path.basename(path)).groups()\n",
    "\n",
    "    df[\"sample\"] = int(sample)\n",
    "\n",
    "    # change geometry from 0-360 to -180-180\n",
    "    df.lon = np.where(df.lon > 180, df.lon - 360, df.lon)\n",
    "\n",
    "    # lookup string basin code from integer representation\n",
    "    df.basin_id = np.array(STORM_BASIN_IDS)[df.basin_id]\n",
    "\n",
    "    # different track_id format for STORM vs. IBTrACS, ensures no collisions\n",
    "    df[\"track_id\"] = (\n",
    "        df[\"basin_id\"] + \"_\"\n",
    "        + df[\"sample\"].astype(str) + \"_\"\n",
    "        + df[\"year\"].astype(int).astype(str) + \"_\"\n",
    "        + df[\"tc_number\"].astype(int).astype(str)\n",
    "    )\n",
    "\n",
    "    # we'll want to interpolate and then measure the speed of tracks later,\n",
    "    # this is easiest when we have some temporal index (as in IBTrACS)\n",
    "    # so make up an artificial one here based on the STORM reporting frequency\n",
    "\n",
    "    track_datetimes: List[np.ndarray] = []\n",
    "    track_lengths: np.ndarray = df.track_id.apply(hash).value_counts(sort=False).values\n",
    "    for length in track_lengths:\n",
    "        track_datetimes.append(pd.date_range(start=\"2000-01-01\", periods=length, freq=STORM_FREQUENCY).values)\n",
    "\n",
    "    df = df.set_index(np.concatenate(track_datetimes))\n",
    "\n",
    "    # reorder columns\n",
    "    df = df.loc[:, list(schema.keys()) + [\"track_id\", \"sample\"]]\n",
    "\n",
    "    data.append(df)"
   ]
  },
  {
   "cell_type": "code",
   "execution_count": 7,
   "id": "24eb3b91-81f4-40cb-9554-d244ef9ec728",
   "metadata": {},
   "outputs": [],
   "source": [
    "data_1 = data[0]\n",
    "data_2 = data[1]\n",
    "data_3 = data[2]\n",
    "data_4 = data[3]\n",
    "data_5 = data[4]\n",
    "data_6 = data[5]\n",
    "data_7 = data[6]\n",
    "data_8 = data[7]\n",
    "data_9 = data[8]\n",
    "data_10 = data[9]"
   ]
  },
  {
   "cell_type": "code",
   "execution_count": 8,
   "id": "9e27c6fa-0ac7-4dfc-93a3-ef1ae3f5e4d1",
   "metadata": {},
   "outputs": [],
   "source": [
    "def preprocess(df):\n",
    "    df.max_wind_speed_ms /= STORM_1MIN_WIND_FACTOR\n",
    "    df = gpd.GeoDataFrame(\n",
    "        data=df,\n",
    "        geometry=gpd.points_from_xy(df[\"lon\"], df[\"lat\"], crs=4326)\n",
    "    )\n",
    "    df = df.drop(columns=[\"lon\", \"lat\"])\n",
    "    return df"
   ]
  },
  {
   "cell_type": "code",
   "execution_count": 9,
   "id": "06bcf9e2-bea9-4434-85e2-277441055acc",
   "metadata": {},
   "outputs": [],
   "source": [
    "data_1 = preprocess(data_1)\n",
    "data_2 = preprocess(data_2)\n",
    "data_3 = preprocess(data_3)\n",
    "data_4 = preprocess(data_4)\n",
    "data_5 = preprocess(data_5)\n",
    "data_6 = preprocess(data_6)\n",
    "data_7 = preprocess(data_7)\n",
    "data_8 = preprocess(data_8)\n",
    "data_9 = preprocess(data_9)\n",
    "data_10 = preprocess(data_10)"
   ]
  },
  {
   "cell_type": "code",
   "execution_count": 10,
   "id": "54d21f52-fe55-4fcf-ae74-41dfd464da4d",
   "metadata": {},
   "outputs": [],
   "source": [
    "data_1.to_parquet(\"/home/mark/projects/open-gira/results/storm_tracks/STORM-constant/tracks_WP_1.geoparquet\")\n",
    "data_2.to_parquet(\"/home/mark/projects/open-gira/results/storm_tracks/STORM-constant/tracks_WP_2.geoparquet\")\n",
    "data_3.to_parquet(\"/home/mark/projects/open-gira/results/storm_tracks/STORM-constant/tracks_WP_3.geoparquet\")\n",
    "data_4.to_parquet(\"/home/mark/projects/open-gira/results/storm_tracks/STORM-constant/tracks_WP_4.geoparquet\")\n",
    "data_5.to_parquet(\"/home/mark/projects/open-gira/results/storm_tracks/STORM-constant/tracks_WP_5.geoparquet\")\n",
    "data_6.to_parquet(\"/home/mark/projects/open-gira/results/storm_tracks/STORM-constant/tracks_WP_6.geoparquet\")\n",
    "data_7.to_parquet(\"/home/mark/projects/open-gira/results/storm_tracks/STORM-constant/tracks_WP_7.geoparquet\")\n",
    "data_8.to_parquet(\"/home/mark/projects/open-gira/results/storm_tracks/STORM-constant/tracks_WP_8.geoparquet\")\n",
    "data_9.to_parquet(\"/home/mark/projects/open-gira/results/storm_tracks/STORM-constant/tracks_WP_9.geoparquet\")\n",
    "data_10.to_parquet(\"/home/mark/projects/open-gira/results/storm_tracks/STORM-constant/tracks_WP_10.geoparquet\")"
   ]
  },
  {
   "cell_type": "code",
   "execution_count": 16,
   "id": "ba672371-8272-4794-8c0f-deede94e1c22",
   "metadata": {},
   "outputs": [],
   "source": [
    "# Concat data\n",
    "df = pd.concat(data)"
   ]
  },
  {
   "cell_type": "code",
   "execution_count": 17,
   "id": "9caf7ad5-5f49-4427-95e8-97a21c91aa09",
   "metadata": {},
   "outputs": [],
   "source": [
    "# rescale winds to 1-minutely\n",
    "df.max_wind_speed_ms /= STORM_1MIN_WIND_FACTOR\n",
    "\n",
    "# construct geometry from lat and long\n",
    "df = gpd.GeoDataFrame(\n",
    "    data=df,\n",
    "    geometry=gpd.points_from_xy(df[\"lon\"], df[\"lat\"], crs=4326)\n",
    ")\n",
    "df = df.drop(columns=[\"lon\", \"lat\"])"
   ]
  },
  {
   "cell_type": "code",
   "execution_count": 18,
   "id": "ed048d9b-8a88-4250-9a4e-6aad3d38176b",
   "metadata": {},
   "outputs": [],
   "source": [
    "# Save data\n",
    "os.makedirs(os.path.dirname(output), exist_ok=True)\n",
    "df.to_parquet(output)"
   ]
  },
  {
   "cell_type": "code",
   "execution_count": null,
   "id": "aff74407-10d9-42d4-b73f-4758fd6b99e9",
   "metadata": {},
   "outputs": [],
   "source": []
  }
 ],
 "metadata": {
  "kernelspec": {
   "display_name": "open-gira",
   "language": "python",
   "name": "open-gira"
  },
  "language_info": {
   "codemirror_mode": {
    "name": "ipython",
    "version": 3
   },
   "file_extension": ".py",
   "mimetype": "text/x-python",
   "name": "python",
   "nbconvert_exporter": "python",
   "pygments_lexer": "ipython3",
   "version": "3.10.8"
  }
 },
 "nbformat": 4,
 "nbformat_minor": 5
}
