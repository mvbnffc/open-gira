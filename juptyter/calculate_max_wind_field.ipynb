{
 "cells": [
  {
   "cell_type": "code",
   "execution_count": 4,
   "id": "68f0d013-f2d1-4376-9676-13c252544779",
   "metadata": {},
   "outputs": [
    {
     "name": "stderr",
     "output_type": "stream",
     "text": [
      "/tmp/ipykernel_12929/2643041496.py:8: DeprecationWarning: Shapely 2.0 is installed, but because PyGEOS is also installed, GeoPandas still uses PyGEOS by default. However, starting with version 0.14, the default will switch to Shapely. To force to use Shapely 2.0 now, you can either uninstall PyGEOS or set the environment variable USE_PYGEOS=0. You can do this before starting the Python process, or in your code before importing geopandas:\n",
      "\n",
      "import os\n",
      "os.environ['USE_PYGEOS'] = '0'\n",
      "import geopandas\n",
      "\n",
      "In the next release, GeoPandas will switch to using Shapely by default, even if PyGEOS is installed. If you only have PyGEOS installed to get speed-ups, this switch should be smooth. However, if you are using PyGEOS directly (calling PyGEOS functions on geometries from GeoPandas), this will then stop working and you are encouraged to migrate from PyGEOS to Shapely 2.0 (https://shapely.readthedocs.io/en/latest/migration_pygeos.html).\n",
      "  import geopandas as gpd\n"
     ]
    }
   ],
   "source": [
    "import os\n",
    "import multiprocessing\n",
    "import logging\n",
    "from typing import Optional\n",
    "import sys\n",
    "import itertools\n",
    "\n",
    "import geopandas as gpd\n",
    "import numpy as np\n",
    "import pandas as pd\n",
    "import pyproj\n",
    "import rioxarray\n",
    "import xarray as xr\n",
    "\n",
    "from open_gira.wind import (\n",
    "    advective_vector, rotational_field, interpolate_track,\n",
    "    power_law_scale_factors, empty_wind_da, WIND_COORDS, ENV_PRESSURE\n",
    ")\n",
    "\n",
    "import warnings \n",
    "warnings.filterwarnings(\"ignore\", category=DeprecationWarning)"
   ]
  },
  {
   "cell_type": "code",
   "execution_count": 5,
   "id": "25976256-f731-47c3-b85f-9e3e87531346",
   "metadata": {},
   "outputs": [],
   "source": [
    "# wind speed altitudes\n",
    "\n",
    "# gradient level clearly not realistic, but we vary it to fit our estimated wind\n",
    "# speeds to observations (or to better model results)\n",
    "# the 18m figure is as a result of minimising pixel-wise errors between this model\n",
    "# and that used in Done et al. 2020 with a physical boundary layer\n",
    "GRADIENT_LEVEL_METRES = 18\n",
    "SURFACE_LEVEL_METRES = 10"
   ]
  },
  {
   "cell_type": "code",
   "execution_count": 6,
   "id": "efb39ab2-1154-4cdf-9e31-bc727304be65",
   "metadata": {},
   "outputs": [],
   "source": [
    "# DEFINE FUNCTIONS\n",
    "def cleanup(output_path: str, downscale_factors_plot_path: str):\n",
    "    \"\"\"\n",
    "    If we don't have a network, or tracks and we can't continue, write empty\n",
    "    files and quit.\n",
    "    \"\"\"\n",
    "    empty_wind_da().to_netcdf(output_path)\n",
    "    os.system(f\"touch {downscale_factors_plot_path}\")\n",
    "    sys.exit(0)\n",
    "\n",
    "def process_track(\n",
    "    track: pd.core.groupby.generic.DataFrameGroupBy,\n",
    "    longitude: np.ndarray,\n",
    "    latitude: np.ndarray,\n",
    "    downscaling_factors: np.ndarray\n",
    ") -> tuple[str, np.ndarray]:\n",
    "    \"\"\"\n",
    "    Interpolate a track, reconstruct the advective and rotational vector wind\n",
    "    fields, sum them and take the maximum of the wind vector magnitude across\n",
    "    time. Optionally plot the wind fields and save to disk.\n",
    "\n",
    "    Args:\n",
    "        track: Subset of DataFrame describing a track. Must have a temporal\n",
    "            index and the following fields: `min_pressure_hpa`,\n",
    "            `max_wind_speed_ms`, `radius_to_max_winds_km`.\n",
    "        longitude: Longitude values to construct evaluation grid\n",
    "        latitude: Latitude values to construct evaluation grid\n",
    "        downscaling_factors: Factors to bring gradient-level winds to surface.\n",
    "        plot_max_wind: Whether to plot max wind fields\n",
    "        plot_animation: Whether to plot wind field evolution\n",
    "        plot_dir: Where to save optional plots.\n",
    "\n",
    "    Returns:\n",
    "        str: Track identifier\n",
    "        np.ndarray: 2D array of maximum wind speed experienced at each grid pixel\n",
    "    \"\"\"\n",
    "\n",
    "    track_id, = set(track.track_id)\n",
    "    print(f'Processing {track_id}')\n",
    "\n",
    "    logging.info(track_id)\n",
    "\n",
    "    grid_shape: tuple[int, int] = (len(latitude), len(longitude))\n",
    "\n",
    "    # we can't calculate the advective component without at least two points\n",
    "    if len(track) == 1:\n",
    "        return track_id, np.zeros(grid_shape)\n",
    "\n",
    "    # basin of first record for storm track (storm genesis for synthetic tracks)\n",
    "    basin: str = track.iloc[0, track.columns.get_loc(\"basin_id\")]\n",
    "\n",
    "    # Debug\n",
    "    print('interpolating track')\n",
    "\n",
    "    # interpolate track (avoid 'doughnut effect' of wind field from infrequent eye observations)\n",
    "    track: gpd.GeoDataFrame = interpolate_track(track)\n",
    "\n",
    "    geod_wgs84: pyproj.Geod = pyproj.CRS(\"epsg:4326\").get_geod()\n",
    "\n",
    "    # forward azimuth angle and distances from track eye to next track eye\n",
    "    advection_azimuth_deg, _, eye_step_distance_m = geod_wgs84.inv(\n",
    "        track.geometry.x.iloc[:-1],\n",
    "        track.geometry.y.iloc[:-1],\n",
    "        track.geometry.x.iloc[1:],\n",
    "        track.geometry.y.iloc[1:],\n",
    "    )\n",
    "\n",
    "    # Debug\n",
    "    print('gapfilling')\n",
    "    \n",
    "    # gapfill last period/distance values with penultimate value\n",
    "    period = track.index[1:] - track.index[:-1]\n",
    "    period = period.append(period[-1:])\n",
    "    eye_step_distance_m = [*eye_step_distance_m, eye_step_distance_m[-1]]\n",
    "    track[\"advection_azimuth_deg\"] = [*advection_azimuth_deg, advection_azimuth_deg[-1]]\n",
    "    \n",
    "    # calculate eye speed\n",
    "    track[\"eye_speed_ms\"] = eye_step_distance_m / period.seconds.values\n",
    "\n",
    "    # hemisphere belongs to {-1, 1}\n",
    "    track[\"hemisphere\"] = np.sign(track.geometry.y)\n",
    "\n",
    "    adv_field: np.ndarray = np.zeros((len(track), *grid_shape), dtype=complex)\n",
    "    rot_field: np.ndarray = np.zeros((len(track), *grid_shape), dtype=complex)\n",
    "\n",
    "    # Debug\n",
    "    print('Looping through track points')\n",
    "    \n",
    "    for track_i, track_point in enumerate(track.itertuples()):\n",
    "\n",
    "        adv_vector: np.complex128 = advective_vector(\n",
    "            track_point.advection_azimuth_deg,\n",
    "            track_point.eye_speed_ms,\n",
    "            track_point.hemisphere,\n",
    "        )\n",
    "\n",
    "        adv_field[track_i, :] = np.full(grid_shape, adv_vector)\n",
    "\n",
    "        # maximum wind speed, less advective component\n",
    "        # this is the maximum tangential wind speed in the eye's non-rotating reference frame\n",
    "        max_wind_speed_relative_to_eye_ms: float = track_point.max_wind_speed_ms - np.abs(adv_vector)\n",
    "\n",
    "        rot_field[track_i, :] = rotational_field(\n",
    "            longitude,  # degrees\n",
    "            latitude,  # degrees\n",
    "            track_point.geometry.x,  # degrees\n",
    "            track_point.geometry.y,  # degrees\n",
    "            track_point.radius_to_max_winds_km * 1_000,  # convert to meters\n",
    "            max_wind_speed_relative_to_eye_ms,\n",
    "            track_point.min_pressure_hpa * 100,  # convert to Pascals\n",
    "            ENV_PRESSURE[basin] * 100,  # convert to Pascals\n",
    "        )\n",
    "\n",
    "    # Debug\n",
    "    print('Summing components of wind field')\n",
    "    \n",
    "    # sum components of wind field, (timesteps, y, x)\n",
    "    wind_field: np.ndarray[complex] = adv_field + rot_field\n",
    "\n",
    "    # take factors calculated from surface roughness of region and use to downscale speeds\n",
    "    downscaled_wind_field = downscaling_factors * wind_field\n",
    "\n",
    "    # Debug\n",
    "    print('Finding vector magnitude')\n",
    "    \n",
    "    # find vector magnitude, then take max along timestep axis, giving (y, x)\n",
    "    # N.B. np.max([np.nan, 1]) = np.nan, so use np.nanmax\n",
    "    max_wind_speeds: np.ndarray[float] = np.nanmax(np.abs(downscaled_wind_field), axis=0)\n",
    "\n",
    "    # Debug\n",
    "    print(F'Finished {track_id}')\n",
    "    \n",
    "    return track_id, max_wind_speeds"
   ]
  },
  {
   "cell_type": "code",
   "execution_count": 7,
   "id": "5054e433-1796-43c2-8afb-924dd9bc12d6",
   "metadata": {},
   "outputs": [],
   "source": [
    "# Define inputs (from Snakemake originally)\n",
    "storm_file_path = '/home/mark/projects/open-gira/results/storm_tracks/STORM-constant/tracks_WP_1.geoparquet'\n",
    "wind_grid_path = '/home/mark/projects/open-gira/results/direct/WP/wind_grid.tiff'\n",
    "surface_roughness_path = '/home/mark/projects/open-gira/results/direct/WP/surface_roughness.tif'\n",
    "# storm_set: set[str] = set(snakemake.params.storm_set)\n",
    "# plot_max_wind: bool = snakemake.config[\"plot_wind\"][\"max_speed\"]\n",
    "# plot_animation: bool = snakemake.config[\"plot_wind\"][\"animation\"]\n",
    "n_proc = 1 # normally 4 DEBUG\n",
    "output_path = '/home/mark/projects/open-gira/results/direct/WP/max_wind_field_WP.nc'"
   ]
  },
  {
   "cell_type": "code",
   "execution_count": 8,
   "id": "e88d1cc2-8a0c-46c6-910b-f543516425a1",
   "metadata": {},
   "outputs": [],
   "source": [
    "# Read tracks\n",
    "tracks = gpd.read_parquet(storm_file_path)\n",
    "if tracks.empty:\n",
    "    print('No tracks found')"
   ]
  },
  {
   "cell_type": "code",
   "execution_count": 9,
   "id": "58e6f9af-523b-4095-9408-c4511cc075ed",
   "metadata": {},
   "outputs": [],
   "source": [
    "# filter tracks that don't make landfall\n",
    "landfall_mask = tracks.groupby('track_id')['landfall'].any() # create a mask identifying track_ids that make landfall\n",
    "landfall_tracks = landfall_mask[landfall_mask].index # filter the mask for only track_ids\n",
    "tracks_filtered = tracks[tracks['track_id'].isin(landfall_tracks)]"
   ]
  },
  {
   "cell_type": "code",
   "execution_count": 10,
   "id": "1aa63083-a9bc-418b-b6ea-766530c9ad49",
   "metadata": {},
   "outputs": [],
   "source": [
    "# Group tracks\n",
    "grouped_tracks = tracks_filtered.groupby('track_id')"
   ]
  },
  {
   "cell_type": "code",
   "execution_count": 11,
   "id": "da1bebb4-b16d-4e26-a804-d11a90eca79b",
   "metadata": {},
   "outputs": [],
   "source": [
    "# grid to evaluate wind speeds on, rioxarray will return midpoints of raster cells as dims\n",
    "grid: xr.DataArray = rioxarray.open_rasterio(wind_grid_path)"
   ]
  },
  {
   "cell_type": "code",
   "execution_count": 12,
   "id": "71a2005c-1d5a-40fa-bbb3-652a722b5d18",
   "metadata": {},
   "outputs": [],
   "source": [
    "# surface roughness raster for downscaling winds with\n",
    "surface_roughness_raster: xr.DataArray = rioxarray.open_rasterio(surface_roughness_path)\n",
    "# (1, y, x) where 1 is the number of surface roughness bands\n",
    "# select the only value in the band dimension\n",
    "surface_roughness: np.ndarray = surface_roughness_raster[0].values"
   ]
  },
  {
   "cell_type": "code",
   "execution_count": 13,
   "id": "938984c6-430c-4228-9256-762f052919fb",
   "metadata": {},
   "outputs": [],
   "source": [
    "# calculate factors to scale wind speeds from gradient-level to surface level,\n",
    "# taking into account surface roughness as defined by the raster\n",
    "downscaling_factors = power_law_scale_factors(\n",
    "    surface_roughness,\n",
    "    SURFACE_LEVEL_METRES,\n",
    "    GRADIENT_LEVEL_METRES\n",
    ")"
   ]
  },
  {
   "cell_type": "code",
   "execution_count": 14,
   "id": "882020ff-6ce7-471e-8b99-2b7c3b92b801",
   "metadata": {},
   "outputs": [],
   "source": [
    "# track is a tuple of track_id and the tracks subset, we only want the latter (create args for function)\n",
    "args = ((track[1], grid.x, grid.y, downscaling_factors) for track in grouped_tracks)\n",
    "# args = ((track[1], grid.x, grid.y, downscaling_factors) for track in itertools.islice(grouped_tracks,10))"
   ]
  },
  {
   "cell_type": "code",
   "execution_count": 15,
   "id": "6526ed1e-527e-4777-a478-e54fd219d29b",
   "metadata": {},
   "outputs": [],
   "source": [
    "# Temporary for only doing one iteration of wind field calc (change args to args_temp below)\n",
    "args_temp = list(itertools.islice(args, 100))"
   ]
  },
  {
   "cell_type": "code",
   "execution_count": null,
   "id": "6fc30492-de1d-4999-8772-2a2cf923e0ca",
   "metadata": {},
   "outputs": [
    {
     "name": "stdout",
     "output_type": "stream",
     "text": [
      "Estimating wind fields for 11588 storm tracks\n",
      "Processing WP_0_0_1\n",
      "interpolating track\n",
      "gapfilling\n",
      "Looping through track points\n",
      "Summing components of wind field\n",
      "Finding vector magnitude\n",
      "Finished WP_0_0_1\n",
      "Processing WP_0_0_14\n",
      "interpolating track\n",
      "gapfilling\n",
      "Looping through track points\n",
      "Summing components of wind field\n",
      "Finding vector magnitude\n",
      "Finished WP_0_0_14\n",
      "Processing WP_0_0_18\n",
      "interpolating track\n",
      "gapfilling\n",
      "Looping through track points\n",
      "Summing components of wind field\n",
      "Finding vector magnitude\n",
      "Finished WP_0_0_18\n",
      "Processing WP_0_0_19\n",
      "interpolating track\n",
      "gapfilling\n",
      "Looping through track points\n",
      "Summing components of wind field\n"
     ]
    }
   ],
   "source": [
    "# Begin wind field estimation (revert to args from args_temp when not testing)\n",
    "print('Estimating wind fields for %s storm tracks' % len(grouped_tracks))\n",
    "max_wind_speeds: list[str, np.ndarray] = []\n",
    "if n_proc > 1:\n",
    "    with multiprocessing.Pool(processes=n_proc) as pool:\n",
    "        max_wind_speeds = pool.starmap(process_track, args_temp)\n",
    "else:\n",
    "    for arg in args_temp:\n",
    "        max_wind_speeds.append(process_track(*arg))"
   ]
  },
  {
   "cell_type": "code",
   "execution_count": null,
   "id": "daf5963c-b605-43a9-82dd-35cf8df25e7c",
   "metadata": {},
   "outputs": [],
   "source": [
    "# sort by track_id so we have a reproducible order even after multiprocessing\n",
    "max_wind_speeds = sorted(max_wind_speeds, key=lambda pair: pair[0])"
   ]
  },
  {
   "cell_type": "code",
   "execution_count": null,
   "id": "e0fd18f4-4ee4-46a3-9814-546dda2ab0da",
   "metadata": {},
   "outputs": [],
   "source": [
    "# Sacing maximum wind speeds to disk\n",
    "track_ids, fields = zip(*max_wind_speeds)"
   ]
  },
  {
   "cell_type": "code",
   "execution_count": null,
   "id": "4026d41e-2aae-4b84-855e-c8b6f9f1243b",
   "metadata": {},
   "outputs": [],
   "source": [
    "# write to disk as netCDF with CRS\n",
    "da = xr.DataArray(\n",
    "    data=np.stack(fields),\n",
    "    dims=WIND_COORDS.keys(),\n",
    "    coords=(\n",
    "        (\"event_id\", list(track_ids)),\n",
    "        (\"latitude\", grid.y.values),\n",
    "        (\"longitude\", grid.x.values),\n",
    "    ),\n",
    "    attrs=dict(\n",
    "        description=\"Maximum estimated wind speed during event\",\n",
    "        units=\"m s-1\",\n",
    "    ),\n",
    "    name=\"max_wind_speed\",\n",
    ")\n",
    "da = da.rio.write_crs(\"EPSG:4326\")\n",
    "encoding = {\"max_wind_speed\": {\"zlib\": True, \"complevel\": 9}}\n",
    "da.to_netcdf(output_path, encoding=encoding)"
   ]
  },
  {
   "cell_type": "code",
   "execution_count": null,
   "id": "82dcbd65-b42c-478b-98d2-b2a5f0a63e2c",
   "metadata": {},
   "outputs": [],
   "source": []
  }
 ],
 "metadata": {
  "kernelspec": {
   "display_name": "open-gira",
   "language": "python",
   "name": "open-gira"
  },
  "language_info": {
   "codemirror_mode": {
    "name": "ipython",
    "version": 3
   },
   "file_extension": ".py",
   "mimetype": "text/x-python",
   "name": "python",
   "nbconvert_exporter": "python",
   "pygments_lexer": "ipython3",
   "version": "3.10.8"
  }
 },
 "nbformat": 4,
 "nbformat_minor": 5
}
