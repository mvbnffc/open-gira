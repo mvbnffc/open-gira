{
 "cells": [
  {
   "cell_type": "code",
   "execution_count": 15,
   "metadata": {},
   "outputs": [],
   "source": [
    "import os\n",
    "import multiprocessing\n",
    "import logging\n",
    "from typing import Optional\n",
    "import sys\n",
    "import itertools\n",
    "\n",
    "import geopandas as gpd\n",
    "import numpy as np\n",
    "import pandas as pd\n",
    "import pyproj\n",
    "import rioxarray\n",
    "import xarray as xr\n",
    "\n",
    "import os\n",
    "import multiprocessing\n",
    "import logging\n",
    "from typing import Optional\n",
    "import sys\n",
    "\n",
    "import geopandas as gpd\n",
    "import numpy as np\n",
    "import pandas as pd\n",
    "import pyproj\n",
    "import rioxarray\n",
    "import xarray as xr\n",
    "\n",
    "from open_gira.io import bit_pack_dataarray_encoding\n",
    "from open_gira.wind import (\n",
    "    estimate_wind_field, interpolate_track, empty_wind_da, WIND_COORDS,\n",
    "    ENV_PRESSURE\n",
    ")\n",
    "\n",
    "from open_gira.wind_plotting import plot_contours, animate_track"
   ]
  },
  {
   "cell_type": "code",
   "execution_count": 16,
   "metadata": {},
   "outputs": [],
   "source": [
    "# Functions \n",
    "\n",
    "def cleanup(output_path: str):\n",
    "    \"\"\"\n",
    "    If we don't have a network, or tracks and we can't continue, write empty\n",
    "    file and quit.\n",
    "    \"\"\"\n",
    "    empty_wind_da().to_netcdf(output_path)\n",
    "    sys.exit(0)\n",
    "\n",
    "\n",
    "def process_track(\n",
    "    track: pd.core.groupby.generic.DataFrameGroupBy,\n",
    "    longitude: np.ndarray,\n",
    "    latitude: np.ndarray,\n",
    "    downscaling_factors: np.ndarray,\n",
    "    plot_max_wind: bool,\n",
    "    plot_animation: bool,\n",
    "    plot_dir: Optional[str]\n",
    ") -> tuple[str, np.ndarray]:\n",
    "    \"\"\"\n",
    "    Interpolate a track, reconstruct the advective and rotational vector wind\n",
    "    fields, sum them and take the maximum of the wind vector magnitude across\n",
    "    time. Optionally plot the wind fields and save to disk.\n",
    "\n",
    "    Args:\n",
    "        track: Subset of DataFrame describing a track. Must have a temporal\n",
    "            index and the following fields: `min_pressure_hpa`,\n",
    "            `max_wind_speed_ms`, `radius_to_max_winds_km`.\n",
    "        longitude: Longitude values to construct evaluation grid\n",
    "        latitude: Latitude values to construct evaluation grid\n",
    "        downscaling_factors: Factors to bring gradient-level winds to surface.\n",
    "        plot_max_wind: Whether to plot max wind fields\n",
    "        plot_animation: Whether to plot wind field evolution\n",
    "        plot_dir: Where to save optional plots.\n",
    "\n",
    "    Returns:\n",
    "        str: Track identifier\n",
    "        np.ndarray: 2D array of maximum wind speed experienced at each grid pixel\n",
    "    \"\"\"\n",
    "\n",
    "    track_id, = set(track.track_id)\n",
    "\n",
    "    logging.info(track_id)\n",
    "\n",
    "    grid_shape: tuple[int, int] = (len(latitude), len(longitude))\n",
    "\n",
    "    # we can't calculate the advective component without at least two points\n",
    "    if len(track) == 1:\n",
    "        return track_id, np.zeros(grid_shape)\n",
    "\n",
    "    # basin of first record for storm track (storm genesis for synthetic tracks)\n",
    "    basin: str = track.iloc[0, track.columns.get_loc(\"basin_id\")]\n",
    "\n",
    "    # interpolate track (avoid 'doughnut effect' of wind field from infrequent eye observations)\n",
    "    try:\n",
    "        track: gpd.GeoDataFrame = interpolate_track(track)\n",
    "    except AssertionError:\n",
    "        logging.warning(f\"Could not successfully interpolate {track_id}\")\n",
    "        return track_id, np.zeros_like(downscaling_factors)\n",
    "\n",
    "    # forward azimuth angle and distances from track eye to next track eye\n",
    "    geod_wgs84: pyproj.Geod = pyproj.CRS(\"epsg:4326\").get_geod()\n",
    "    advection_azimuth_deg, _, eye_step_distance_m = geod_wgs84.inv(\n",
    "        track.geometry.x.iloc[:-1],\n",
    "        track.geometry.y.iloc[:-1],\n",
    "        track.geometry.x.iloc[1:],\n",
    "        track.geometry.y.iloc[1:],\n",
    "    )\n",
    "\n",
    "    # gapfill last period/distance values with penultimate value\n",
    "    period = track.index[1:] - track.index[:-1]\n",
    "    period = period.append(period[-1:])\n",
    "    eye_step_distance_m = [*eye_step_distance_m, eye_step_distance_m[-1]]\n",
    "    track[\"advection_azimuth_deg\"] = [*advection_azimuth_deg, advection_azimuth_deg[-1]]\n",
    "\n",
    "    # calculate eye speed\n",
    "    track[\"eye_speed_ms\"] = eye_step_distance_m / period.seconds.values\n",
    "\n",
    "    # result array\n",
    "    wind_field: np.ndarray = np.zeros((len(track), *grid_shape), dtype=complex)\n",
    "\n",
    "    for track_i, track_point in enumerate(track.itertuples()):\n",
    "\n",
    "        try:\n",
    "            wind_field[track_i, :] = estimate_wind_field(\n",
    "                longitude,  # degrees\n",
    "                latitude,  # degrees\n",
    "                track_point.geometry.x,  # degrees\n",
    "                track_point.geometry.y,  # degrees\n",
    "                track_point.radius_to_max_winds_km * 1_000,  # convert to meters\n",
    "                track_point.max_wind_speed_ms,\n",
    "                track_point.min_pressure_hpa * 100,  # convert to Pascals\n",
    "                ENV_PRESSURE[basin] * 100,  # convert to Pascals\n",
    "                track_point.advection_azimuth_deg,\n",
    "                track_point.eye_speed_ms,\n",
    "            )\n",
    "        except AssertionError:\n",
    "            logging.warning(f\"{track_id} failed wind field estimation for {track_i + 1} of {len(track)}, writing zeros\")\n",
    "\n",
    "    # take factors calculated from surface roughness of region and use to downscale speeds\n",
    "    downscaled_wind_field = downscaling_factors * wind_field\n",
    "\n",
    "    # find vector magnitude, then take max along timestep axis, giving (y, x)\n",
    "    # N.B. np.max([np.nan, 1]) = np.nan, so use np.nanmax\n",
    "    max_wind_speeds: np.ndarray[float] = np.nanmax(np.abs(downscaled_wind_field), axis=0)\n",
    "\n",
    "    # any dimensions with a single cell will break the plotting routines\n",
    "    if 1 not in grid_shape:\n",
    "\n",
    "        if plot_max_wind:\n",
    "            plot_contours(\n",
    "                max_wind_speeds,\n",
    "                f\"{track_id} max wind speed\",\n",
    "                \"Wind speed [m/s]\",\n",
    "                os.path.join(plot_dir, f\"{track_id}_max_contour.png\")\n",
    "            )\n",
    "\n",
    "        if plot_animation:\n",
    "            animate_track(\n",
    "                downscaled_wind_field,\n",
    "                track,\n",
    "                os.path.join(plot_dir, f\"{track_id}.gif\")\n",
    "            )\n",
    "\n",
    "    return track_id, max_wind_speeds"
   ]
  },
  {
   "cell_type": "code",
   "execution_count": 17,
   "metadata": {},
   "outputs": [],
   "source": [
    "# Define inputs (from Snakemake originally)\n",
    "storm_file_path = '/home/mark/projects/open-gira/results/direct/Bahamas/IBTrACS/0/tracks.geoparquet'\n",
    "wind_grid_path = '/home/mark/projects/open-gira/results/direct/Bahamas/wind_grid.tiff'\n",
    "surface_roughness_path = '/home/mark/projects/open-gira/results/direct/Bahamas/surface_roughness_mangroves_test.tif'\n",
    "# storm_set: set[str] = set(snakemake.params.storm_set)\n",
    "# plot_max_wind: bool = snakemake.config[\"plot_wind\"][\"max_speed\"]\n",
    "# plot_animation: bool = snakemake.config[\"plot_wind\"][\"animation\"]\n",
    "n_proc = 1 # normally 4 DEBUG\n",
    "output_path = '/home/mark/projects/open-gira/results/direct/Bahamas/max_wind_field_IBTrACS_BHS_mangroves.nc'\n",
    "downscale_path = '/home/mark/projects/open-gira/results/direct/Bahamas/downscale_factors.npy'\n",
    "# Boolean arguments (do we want to plot - specify directory if so)\n",
    "plot_dir_path = '/home/mark/projects/open-gira/results/direct/Bahamas/plots_STORM'\n",
    "plot_max_wind = False\n",
    "plot_animation = False"
   ]
  },
  {
   "cell_type": "code",
   "execution_count": 18,
   "metadata": {},
   "outputs": [],
   "source": [
    "# Read tracks\n",
    "tracks = gpd.read_parquet(storm_file_path)\n",
    "if tracks.empty:\n",
    "    print('No tracks found')"
   ]
  },
  {
   "cell_type": "code",
   "execution_count": 19,
   "metadata": {},
   "outputs": [],
   "source": [
    "# filter tracks that don't make landfall\n",
    "landfall_mask = tracks.groupby('track_id')['landfall'].any() # create a mask identifying track_ids that make landfall\n",
    "landfall_tracks = landfall_mask[landfall_mask].index # filter the mask for only track_ids\n",
    "tracks_filtered = tracks[tracks['track_id'].isin(landfall_tracks)]"
   ]
  },
  {
   "cell_type": "code",
   "execution_count": 20,
   "metadata": {},
   "outputs": [],
   "source": [
    "# Group tracks\n",
    "grouped_tracks = tracks_filtered.groupby('track_id')"
   ]
  },
  {
   "cell_type": "code",
   "execution_count": 21,
   "metadata": {},
   "outputs": [],
   "source": [
    "# grid to evaluate wind speeds on, rioxarray will return midpoints of raster cells as dims\n",
    "grid: xr.DataArray = rioxarray.open_rasterio(wind_grid_path)"
   ]
  },
  {
   "cell_type": "code",
   "execution_count": 22,
   "metadata": {},
   "outputs": [],
   "source": [
    "# surface roughness raster for downscaling winds with\n",
    "surface_roughness_raster: xr.DataArray = rioxarray.open_rasterio(surface_roughness_path)\n",
    "# (1, y, x) where 1 is the number of surface roughness bands\n",
    "# select the only value in the band dimension\n",
    "surface_roughness: np.ndarray = surface_roughness_raster[0].values"
   ]
  },
  {
   "cell_type": "code",
   "execution_count": 23,
   "metadata": {},
   "outputs": [],
   "source": [
    "downscaling_factors = np.load(downscale_path)"
   ]
  },
  {
   "cell_type": "code",
   "execution_count": 24,
   "metadata": {},
   "outputs": [],
   "source": [
    "# track is a tuple of track_id and the tracks subset, we only want the latter\n",
    "args = ((track[1], grid.x, grid.y, downscaling_factors, plot_max_wind, plot_animation, plot_dir_path) for track in grouped_tracks)"
   ]
  },
  {
   "cell_type": "code",
   "execution_count": 25,
   "metadata": {},
   "outputs": [
    {
     "name": "stdout",
     "output_type": "stream",
     "text": [
      "Estimating wind fields for 32 storm tracks\n"
     ]
    },
    {
     "name": "stderr",
     "output_type": "stream",
     "text": [
      "WARNING:root:Could not successfully interpolate 2006213N16302\n",
      "WARNING:root:Could not successfully interpolate 2008311N14278\n"
     ]
    }
   ],
   "source": [
    "# Begin wind field estimation (revert to args from args_temp when not testing)\n",
    "print('Estimating wind fields for %s storm tracks' % len(grouped_tracks))\n",
    "max_wind_speeds: list[str, np.ndarray] = []\n",
    "if n_proc > 1:\n",
    "    with multiprocessing.Pool(processes=n_proc) as pool:\n",
    "        max_wind_speeds = pool.starmap(process_track, args)\n",
    "else:\n",
    "    for arg in args:\n",
    "        max_wind_speeds.append(process_track(*arg))"
   ]
  },
  {
   "cell_type": "code",
   "execution_count": 26,
   "metadata": {},
   "outputs": [],
   "source": [
    "# sort by track_id so we have a reproducible order even after multiprocessing\n",
    "max_wind_speeds = sorted(max_wind_speeds, key=lambda pair: pair[0])"
   ]
  },
  {
   "cell_type": "code",
   "execution_count": 27,
   "metadata": {},
   "outputs": [],
   "source": [
    "# Saving maximum wind speeds to disk\n",
    "track_ids, fields = zip(*max_wind_speeds)"
   ]
  },
  {
   "cell_type": "code",
   "execution_count": 28,
   "metadata": {},
   "outputs": [],
   "source": [
    "# write to disk as netCDF with CRS\n",
    "da = xr.DataArray(\n",
    "    data=np.stack(fields),\n",
    "    dims=WIND_COORDS.keys(),\n",
    "    coords=(\n",
    "        (\"event_id\", list(track_ids)),\n",
    "        (\"latitude\", grid.y.values),\n",
    "        (\"longitude\", grid.x.values),\n",
    "    ),\n",
    "    attrs=dict(\n",
    "        description=\"Maximum estimated wind speed during event\",\n",
    "        units=\"m s-1\",\n",
    "    ),\n",
    "    name=\"max_wind_speed\",\n",
    ")\n",
    "da = da.rio.write_crs(\"EPSG:4326\")\n",
    "encoding = {\"max_wind_speed\": {\"zlib\": True, \"complevel\": 9}}\n",
    "da.to_netcdf(output_path, encoding=encoding)"
   ]
  }
 ],
 "metadata": {
  "kernelspec": {
   "display_name": "Python 3",
   "language": "python",
   "name": "python3"
  },
  "language_info": {
   "codemirror_mode": {
    "name": "ipython",
    "version": 3
   },
   "file_extension": ".py",
   "mimetype": "text/x-python",
   "name": "python",
   "nbconvert_exporter": "python",
   "pygments_lexer": "ipython3",
   "version": "3.10.8"
  }
 },
 "nbformat": 4,
 "nbformat_minor": 2
}
