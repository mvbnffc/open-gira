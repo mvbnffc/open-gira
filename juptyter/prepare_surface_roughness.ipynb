{
 "cells": [
  {
   "cell_type": "markdown",
   "id": "67a1bb33-f379-4653-9502-1f3541e4d372",
   "metadata": {},
   "source": [
    "### NOTE: for WP basin have to run on AWS as encounter memory issues"
   ]
  },
  {
   "cell_type": "code",
   "execution_count": 1,
   "id": "fdba556e-5dde-417b-8196-17d0c6df4aa1",
   "metadata": {},
   "outputs": [],
   "source": [
    "import os\n",
    "\n",
    "import pandas as pd\n",
    "import rioxarray\n",
    "from rasterio.errors import RasterioIOError\n",
    "import numpy as np\n",
    "import dask"
   ]
  },
  {
   "cell_type": "code",
   "execution_count": 2,
   "id": "14f43ff1-4469-4b54-98a9-fa07fe0162af",
   "metadata": {},
   "outputs": [],
   "source": [
    "# User specified inputs\n",
    "landcover_raster = '/home/mark/projects/open-gira/results/direct/WP/GlobCover.tif'\n",
    "wind_grid = '/home/mark/projects/open-gira/results/direct/WP/wind_grid.tiff'\n",
    "land_cover_roughness_mapping = '/home/mark/projects/open-gira/config/land_use_to_surface_roughness.csv'\n",
    "output = '/home/mark/projects/open-gira/results/direct/WP/surface_roughness.tif'"
   ]
  },
  {
   "cell_type": "code",
   "execution_count": null,
   "id": "f793b249-0e2d-4ef6-bb78-14e4caa8122a",
   "metadata": {},
   "outputs": [],
   "source": [
    "try:\n",
    "    land_cover = rioxarray.open_rasterio(landcover_raster)\n",
    "except RasterioIOError:\n",
    "    logging.info(\"Found empty land cover map, creating empty surface roughness raster...\")\n",
    "    os.system(f\"touch {output}\")\n",
    "    sys.exit(0)\n",
    "wind_grid = rioxarray.open_rasterio(wind_grid)\n",
    "cover_roughness = pd.read_csv(land_cover_roughness_mapping, comment=\"#\")\n",
    "\n",
    "# build a lookup array where the category is the index\n",
    "# and the value for a given index/category is the surface roughness in metres\n",
    "lookup_length = max(set(cover_roughness.glob_cover_2009_id)) + 1\n",
    "roughness_lookup: np.ndarray = np.zeros(lookup_length)\n",
    "for row in cover_roughness.itertuples():\n",
    "    roughness_lookup[row.glob_cover_2009_id] = row.roughness_length_m\n",
    "\n",
    "# create surface roughness field (same shape as land cover)\n",
    "surface_roughness_values: np.ndarray = roughness_lookup[land_cover.values]\n",
    "surface_roughness = land_cover.copy()\n",
    "surface_roughness.values = surface_roughness_values\n",
    "\n",
    "# surface roughness on wind grid\n",
    "downsampled_roughness = surface_roughness.interp(x=wind_grid.x, y=wind_grid.y)"
   ]
  },
  {
   "cell_type": "code",
   "execution_count": null,
   "id": "69d20b4c-b03d-445e-90b5-a57256cd5aa0",
   "metadata": {},
   "outputs": [],
   "source": [
    "# Save\n",
    "downsampled_roughness.rio.to_raster(output)"
   ]
  }
 ],
 "metadata": {
  "kernelspec": {
   "display_name": "open-gira",
   "language": "python",
   "name": "open-gira"
  },
  "language_info": {
   "codemirror_mode": {
    "name": "ipython",
    "version": 3
   },
   "file_extension": ".py",
   "mimetype": "text/x-python",
   "name": "python",
   "nbconvert_exporter": "python",
   "pygments_lexer": "ipython3",
   "version": "3.10.8"
  }
 },
 "nbformat": 4,
 "nbformat_minor": 5
}
