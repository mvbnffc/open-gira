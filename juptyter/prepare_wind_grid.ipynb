{
 "cells": [
  {
   "cell_type": "code",
   "execution_count": 1,
   "id": "e57811ae-52a3-4554-85d5-bdf4f2617ea2",
   "metadata": {},
   "outputs": [],
   "source": [
    "import os \n",
    "import sys\n",
    "import numpy as np\n",
    "from typing import Tuple"
   ]
  },
  {
   "cell_type": "code",
   "execution_count": 5,
   "id": "d0b91e64-99d8-4472-a221-380787ab447f",
   "metadata": {},
   "outputs": [],
   "source": [
    "# User specified inputs\n",
    "wind_deg = 0.1    # 11 KM \n",
    "bounding_box = [95, 180, -5, 65]   # [lonmin, lonmax, latmin, latmax]\n",
    "output_path = \"/home/mark/projects/open-gira/results/direct/WP/wind_grid_WP.tif\""
   ]
  },
  {
   "cell_type": "code",
   "execution_count": 6,
   "id": "512bf8fc-2051-44d5-9719-28bab7c0e5d7",
   "metadata": {},
   "outputs": [],
   "source": [
    "def harmonise_grid(minimum: float, maximum: float, cell_length: float) -> Tuple[int, float, float]:\n",
    "    assert maximum > minimum\n",
    "    span: float = maximum - minimum\n",
    "    n_cells: int = int(np.ceil(span / cell_length))\n",
    "    delta: float = n_cells * cell_length - span\n",
    "    buffer: float = delta / 2\n",
    "    return n_cells, minimum - buffer, maximum + buffer\n",
    "\n",
    "def create_blank_tiff(bounding_box, cell_length, output_path):\n",
    "    minx, maxx, miny, maxy = bounding_box\n",
    "    i, minx, maxx = harmonise_grid(minx, maxx, cell_length)\n",
    "    j, miny, maxy = harmonise_grid(miny, maxy, cell_length)\n",
    "    os.makedirs(os.path.dirname(output_path), exist_ok=True)\n",
    "    command = f\"gdal_create -outsize {i} {j} -a_srs EPSG:4326 -a_ullr {minx} {maxy} {maxx} {miny} {output_path}\"\n",
    "    os.system(command)"
   ]
  },
  {
   "cell_type": "code",
   "execution_count": 7,
   "id": "b3c7a2cc-1b7e-4c0d-bdb6-894b5aa7b126",
   "metadata": {},
   "outputs": [],
   "source": [
    "create_blank_tiff(bounding_box, wind_deg, output_path)"
   ]
  },
  {
   "cell_type": "code",
   "execution_count": null,
   "id": "52a5c28e-4720-45aa-84b5-7292e622b3e9",
   "metadata": {},
   "outputs": [],
   "source": []
  }
 ],
 "metadata": {
  "kernelspec": {
   "display_name": "open-gira",
   "language": "python",
   "name": "open-gira"
  },
  "language_info": {
   "codemirror_mode": {
    "name": "ipython",
    "version": 3
   },
   "file_extension": ".py",
   "mimetype": "text/x-python",
   "name": "python",
   "nbconvert_exporter": "python",
   "pygments_lexer": "ipython3",
   "version": "3.10.8"
  }
 },
 "nbformat": 4,
 "nbformat_minor": 5
}
