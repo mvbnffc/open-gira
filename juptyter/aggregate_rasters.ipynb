{
 "cells": [
  {
   "cell_type": "markdown",
   "id": "e7b4ec7c-09ca-40f7-8853-c8b409e60ae4",
   "metadata": {},
   "source": [
    "### This script aggregates the nationalID raster and the GDP raster, maintaining national GDP totals"
   ]
  },
  {
   "cell_type": "code",
   "execution_count": 1,
   "id": "8ae58fd0-e918-43ff-b3c0-807ba3faaabc",
   "metadata": {},
   "outputs": [],
   "source": [
    "import rasterio\n",
    "import numpy as np\n",
    "import dask.array as da\n",
    "from scipy.stats import mode"
   ]
  },
  {
   "cell_type": "code",
   "execution_count": 2,
   "id": "26c0f0cf-097d-4382-acbf-9f439978332a",
   "metadata": {},
   "outputs": [],
   "source": [
    "# Load the datasets\n",
    "with rasterio.open('/home/mark/projects/open-gira/results/direct/WP/NatID_1km_test.tif') as src:\n",
    "    national_id = src.read(1)\n",
    "    profile = src.profile\n",
    "# with rasterio.open('/home/mark/projects/open-gira/results/direct/WP/GDP2005_1km.tif') as src:\n",
    "#     gdp = src.read(1)"
   ]
  },
  {
   "cell_type": "code",
   "execution_count": 3,
   "id": "7b1a72c6-15f4-4d01-9e5c-73eb1c1c68ab",
   "metadata": {},
   "outputs": [],
   "source": [
    "# Define the new resolution\n",
    "factor = 3\n",
    "block_size = (factor, factor)"
   ]
  },
  {
   "cell_type": "code",
   "execution_count": 4,
   "id": "b9369315-f069-47fb-937e-8b81cf4f427e",
   "metadata": {},
   "outputs": [],
   "source": [
    "# Create a dask array from the national ID data\n",
    "national_id_da = da.from_array(national_id, chunks=block_size)"
   ]
  },
  {
   "cell_type": "code",
   "execution_count": 8,
   "id": "8f089ef3-1ba3-4348-99c8-7eb7dd7ee42a",
   "metadata": {},
   "outputs": [],
   "source": [
    "# Define function to compute the mode of a block\n",
    "def block_mode(block):\n",
    "    return mode(block.ravel()).mode[0]"
   ]
  },
  {
   "cell_type": "code",
   "execution_count": 9,
   "id": "31c72ac2-acdf-47a2-a4a9-4591a63bc96c",
   "metadata": {},
   "outputs": [],
   "source": [
    "# Use dask's map_blocks function to apply block_mode to each block of the array\n",
    "national_id_agg = national_id_da.map_blocks(block_mode, dtype=national_id_da.dtype)"
   ]
  },
  {
   "cell_type": "code",
   "execution_count": 10,
   "id": "1afa742a-df75-4b17-98d9-29d3178bdf11",
   "metadata": {},
   "outputs": [
    {
     "ename": "IndexError",
     "evalue": "invalid index to scalar variable.",
     "output_type": "error",
     "traceback": [
      "\u001b[0;31m---------------------------------------------------------------------------\u001b[0m",
      "\u001b[0;31mIndexError\u001b[0m                                Traceback (most recent call last)",
      "Cell \u001b[0;32mIn[10], line 2\u001b[0m\n\u001b[1;32m      1\u001b[0m \u001b[38;5;66;03m# Compute the result\u001b[39;00m\n\u001b[0;32m----> 2\u001b[0m national_id_agg \u001b[38;5;241m=\u001b[39m \u001b[43mnational_id_agg\u001b[49m\u001b[38;5;241;43m.\u001b[39;49m\u001b[43mcompute\u001b[49m\u001b[43m(\u001b[49m\u001b[43m)\u001b[49m\n",
      "File \u001b[0;32m~/micromamba/envs/open-gira/lib/python3.10/site-packages/dask/threaded.py:89\u001b[0m, in \u001b[0;36mget\u001b[0;34m(dsk, keys, cache, num_workers, pool, **kwargs)\u001b[0m\n\u001b[1;32m     86\u001b[0m     \u001b[38;5;28;01melif\u001b[39;00m \u001b[38;5;28misinstance\u001b[39m(pool, multiprocessing\u001b[38;5;241m.\u001b[39mpool\u001b[38;5;241m.\u001b[39mPool):\n\u001b[1;32m     87\u001b[0m         pool \u001b[38;5;241m=\u001b[39m MultiprocessingPoolExecutor(pool)\n\u001b[0;32m---> 89\u001b[0m results \u001b[38;5;241m=\u001b[39m \u001b[43mget_async\u001b[49m\u001b[43m(\u001b[49m\n\u001b[1;32m     90\u001b[0m \u001b[43m    \u001b[49m\u001b[43mpool\u001b[49m\u001b[38;5;241;43m.\u001b[39;49m\u001b[43msubmit\u001b[49m\u001b[43m,\u001b[49m\n\u001b[1;32m     91\u001b[0m \u001b[43m    \u001b[49m\u001b[43mpool\u001b[49m\u001b[38;5;241;43m.\u001b[39;49m\u001b[43m_max_workers\u001b[49m\u001b[43m,\u001b[49m\n\u001b[1;32m     92\u001b[0m \u001b[43m    \u001b[49m\u001b[43mdsk\u001b[49m\u001b[43m,\u001b[49m\n\u001b[1;32m     93\u001b[0m \u001b[43m    \u001b[49m\u001b[43mkeys\u001b[49m\u001b[43m,\u001b[49m\n\u001b[1;32m     94\u001b[0m \u001b[43m    \u001b[49m\u001b[43mcache\u001b[49m\u001b[38;5;241;43m=\u001b[39;49m\u001b[43mcache\u001b[49m\u001b[43m,\u001b[49m\n\u001b[1;32m     95\u001b[0m \u001b[43m    \u001b[49m\u001b[43mget_id\u001b[49m\u001b[38;5;241;43m=\u001b[39;49m\u001b[43m_thread_get_id\u001b[49m\u001b[43m,\u001b[49m\n\u001b[1;32m     96\u001b[0m \u001b[43m    \u001b[49m\u001b[43mpack_exception\u001b[49m\u001b[38;5;241;43m=\u001b[39;49m\u001b[43mpack_exception\u001b[49m\u001b[43m,\u001b[49m\n\u001b[1;32m     97\u001b[0m \u001b[43m    \u001b[49m\u001b[38;5;241;43m*\u001b[39;49m\u001b[38;5;241;43m*\u001b[39;49m\u001b[43mkwargs\u001b[49m\u001b[43m,\u001b[49m\n\u001b[1;32m     98\u001b[0m \u001b[43m\u001b[49m\u001b[43m)\u001b[49m\n\u001b[1;32m    100\u001b[0m \u001b[38;5;66;03m# Cleanup pools associated to dead threads\u001b[39;00m\n\u001b[1;32m    101\u001b[0m \u001b[38;5;28;01mwith\u001b[39;00m pools_lock:\n",
      "File \u001b[0;32m~/micromamba/envs/open-gira/lib/python3.10/site-packages/dask/local.py:511\u001b[0m, in \u001b[0;36mget_async\u001b[0;34m(submit, num_workers, dsk, result, cache, get_id, rerun_exceptions_locally, pack_exception, raise_exception, callbacks, dumps, loads, chunksize, **kwargs)\u001b[0m\n\u001b[1;32m    509\u001b[0m         _execute_task(task, data)  \u001b[38;5;66;03m# Re-execute locally\u001b[39;00m\n\u001b[1;32m    510\u001b[0m     \u001b[38;5;28;01melse\u001b[39;00m:\n\u001b[0;32m--> 511\u001b[0m         \u001b[43mraise_exception\u001b[49m\u001b[43m(\u001b[49m\u001b[43mexc\u001b[49m\u001b[43m,\u001b[49m\u001b[43m \u001b[49m\u001b[43mtb\u001b[49m\u001b[43m)\u001b[49m\n\u001b[1;32m    512\u001b[0m res, worker_id \u001b[38;5;241m=\u001b[39m loads(res_info)\n\u001b[1;32m    513\u001b[0m state[\u001b[38;5;124m\"\u001b[39m\u001b[38;5;124mcache\u001b[39m\u001b[38;5;124m\"\u001b[39m][key] \u001b[38;5;241m=\u001b[39m res\n",
      "File \u001b[0;32m~/micromamba/envs/open-gira/lib/python3.10/site-packages/dask/local.py:319\u001b[0m, in \u001b[0;36mreraise\u001b[0;34m(exc, tb)\u001b[0m\n\u001b[1;32m    317\u001b[0m \u001b[38;5;28;01mif\u001b[39;00m exc\u001b[38;5;241m.\u001b[39m__traceback__ \u001b[38;5;129;01mis\u001b[39;00m \u001b[38;5;129;01mnot\u001b[39;00m tb:\n\u001b[1;32m    318\u001b[0m     \u001b[38;5;28;01mraise\u001b[39;00m exc\u001b[38;5;241m.\u001b[39mwith_traceback(tb)\n\u001b[0;32m--> 319\u001b[0m \u001b[38;5;28;01mraise\u001b[39;00m exc\n",
      "File \u001b[0;32m~/micromamba/envs/open-gira/lib/python3.10/site-packages/dask/local.py:224\u001b[0m, in \u001b[0;36mexecute_task\u001b[0;34m(key, task_info, dumps, loads, get_id, pack_exception)\u001b[0m\n\u001b[1;32m    222\u001b[0m \u001b[38;5;28;01mtry\u001b[39;00m:\n\u001b[1;32m    223\u001b[0m     task, data \u001b[38;5;241m=\u001b[39m loads(task_info)\n\u001b[0;32m--> 224\u001b[0m     result \u001b[38;5;241m=\u001b[39m \u001b[43m_execute_task\u001b[49m\u001b[43m(\u001b[49m\u001b[43mtask\u001b[49m\u001b[43m,\u001b[49m\u001b[43m \u001b[49m\u001b[43mdata\u001b[49m\u001b[43m)\u001b[49m\n\u001b[1;32m    225\u001b[0m     \u001b[38;5;28mid\u001b[39m \u001b[38;5;241m=\u001b[39m get_id()\n\u001b[1;32m    226\u001b[0m     result \u001b[38;5;241m=\u001b[39m dumps((result, \u001b[38;5;28mid\u001b[39m))\n",
      "Cell \u001b[0;32mIn[8], line 3\u001b[0m, in \u001b[0;36mblock_mode\u001b[0;34m(block)\u001b[0m\n\u001b[1;32m      2\u001b[0m \u001b[38;5;28;01mdef\u001b[39;00m \u001b[38;5;21mblock_mode\u001b[39m(block):\n\u001b[0;32m----> 3\u001b[0m     \u001b[38;5;28;01mreturn\u001b[39;00m \u001b[43mmode\u001b[49m\u001b[43m(\u001b[49m\u001b[43mblock\u001b[49m\u001b[38;5;241;43m.\u001b[39;49m\u001b[43mravel\u001b[49m\u001b[43m(\u001b[49m\u001b[43m)\u001b[49m\u001b[43m)\u001b[49m\u001b[38;5;241;43m.\u001b[39;49m\u001b[43mmode\u001b[49m\u001b[43m[\u001b[49m\u001b[38;5;241;43m0\u001b[39;49m\u001b[43m]\u001b[49m\n",
      "\u001b[0;31mIndexError\u001b[0m: invalid index to scalar variable."
     ]
    }
   ],
   "source": [
    "# Compute the result\n",
    "national_id_agg = national_id_agg.compute()"
   ]
  },
  {
   "cell_type": "code",
   "execution_count": null,
   "id": "05d5a519-5711-47ac-9202-9c5fa7c3ca5a",
   "metadata": {},
   "outputs": [],
   "source": [
    "# Update the profile for the new resolution\n",
    "profile.update(\n",
    "    dtype=rasterio.int32,  # or whatever dtype is appropriate for your data\n",
    "    height=national_id_agg.shape[0],\n",
    "    width=national_id_agg.shape[1],\n",
    "    transform=rasterio.Affine(0.1, 0, profile['transform'][2],\n",
    "                              0, -0.1, profile['transform'][5])\n",
    ")"
   ]
  },
  {
   "cell_type": "code",
   "execution_count": null,
   "id": "fd5b27ac-d6b5-4c4f-9c76-efd338d2d1a9",
   "metadata": {},
   "outputs": [],
   "source": [
    "with rasterio.open('/home/mark/projects/open-gira/results/direct/WP/national_id_agg.tif', 'w', **src.profile) as dst:\n",
    "    dst.write(national_id_agg, 1)"
   ]
  }
 ],
 "metadata": {
  "kernelspec": {
   "display_name": "open-gira",
   "language": "python",
   "name": "open-gira"
  },
  "language_info": {
   "codemirror_mode": {
    "name": "ipython",
    "version": 3
   },
   "file_extension": ".py",
   "mimetype": "text/x-python",
   "name": "python",
   "nbconvert_exporter": "python",
   "pygments_lexer": "ipython3",
   "version": "3.10.8"
  }
 },
 "nbformat": 4,
 "nbformat_minor": 5
}
